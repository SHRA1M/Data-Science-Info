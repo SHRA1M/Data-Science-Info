{
 "cells": [
  {
   "cell_type": "markdown",
   "id": "c298b7fb-b202-4017-bc03-42521def07eb",
   "metadata": {},
   "source": [
    "# Data Science Tools and Ecosystem"
   ]
  },
  {
   "cell_type": "markdown",
   "id": "1d012b1c-a254-4b5e-ba7b-c8e237637f44",
   "metadata": {},
   "source": [
    "In this notebook, Data Science Tools and Ecosystem are summarized."
   ]
  },
  {
   "cell_type": "markdown",
   "id": "5a41878a-06d7-4c70-9e4a-4e3742cbe2e7",
   "metadata": {},
   "source": [
    "***Objectives:*** \n",
    "- List popular languages for Data Science\n",
    "- List popular libraries for Data Science\n",
    "- List popular Tools for Data Science\n"
   ]
  },
  {
   "cell_type": "markdown",
   "id": "742426e7-d79a-412f-9134-0e2d8efefb05",
   "metadata": {},
   "source": [
    "Some of the popular languages that Data Scientists use are:\n",
    "1. Python\n",
    "2. R\n",
    "3. Julis\n",
    "4. SQL"
   ]
  },
  {
   "cell_type": "markdown",
   "id": "ef2b8206-cd3e-44bc-bc36-e700b84902ab",
   "metadata": {},
   "source": [
    "Some of the commonly used libraries used by Data Scientists include:\n",
    "1. Pandas\n",
    "2. SciPy\n",
    "3. NumPy\n",
    "4. Seaborn"
   ]
  },
  {
   "cell_type": "markdown",
   "id": "17c2b7ed-3f44-47f7-a749-5cb00b0c7821",
   "metadata": {},
   "source": [
    "| Data Science Tools |\n",
    "|--------------------|\n",
    "|Jupyter Notebook/Lab|\n",
    "|RStudio|\n",
    "|Spyder|"
   ]
  },
  {
   "cell_type": "markdown",
   "id": "1d9623fb-0c16-4bab-a975-e84b79a52fc3",
   "metadata": {},
   "source": [
    "### Below are a few examples of evaluating arithmetic expressions in Python\n"
   ]
  },
  {
   "cell_type": "code",
   "execution_count": 6,
   "id": "a00347fe-1983-4ad1-95ba-ae94c0a07d7d",
   "metadata": {},
   "outputs": [
    {
     "data": {
      "text/plain": [
       "17"
      ]
     },
     "execution_count": 6,
     "metadata": {},
     "output_type": "execute_result"
    }
   ],
   "source": [
    "#This a simple arithmetic expression to mutiply then add integers\n",
    "(3*4)+5"
   ]
  },
  {
   "cell_type": "code",
   "execution_count": 8,
   "id": "9d34834b-0df8-472a-b658-4c7c8fea3056",
   "metadata": {},
   "outputs": [
    {
     "data": {
      "text/plain": [
       "3.3333333333333335"
      ]
     },
     "execution_count": 8,
     "metadata": {},
     "output_type": "execute_result"
    }
   ],
   "source": [
    "#This will convert 200 minutes to hours by diving by 60\n",
    "200 / 60"
   ]
  },
  {
   "cell_type": "markdown",
   "id": "e1db4be1-13b7-4d94-81cd-ebf382d0fb33",
   "metadata": {},
   "source": [
    "\n",
    "## Author\n",
    "Iyas Shraim  \n"
   ]
  },
  {
   "cell_type": "code",
   "execution_count": null,
   "id": "27ce8c01-9268-4f8b-a952-ec62d99e03fd",
   "metadata": {},
   "outputs": [],
   "source": []
  }
 ],
 "metadata": {
  "kernelspec": {
   "display_name": "Python [conda env:base] *",
   "language": "python",
   "name": "conda-base-py"
  },
  "language_info": {
   "codemirror_mode": {
    "name": "ipython",
    "version": 3
   },
   "file_extension": ".py",
   "mimetype": "text/x-python",
   "name": "python",
   "nbconvert_exporter": "python",
   "pygments_lexer": "ipython3",
   "version": "3.13.5"
  }
 },
 "nbformat": 4,
 "nbformat_minor": 5
}
